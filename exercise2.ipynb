{
 "cells": [
  {
   "cell_type": "code",
   "execution_count": 2,
   "metadata": {},
   "outputs": [
    {
     "name": "stdin",
     "output_type": "stream",
     "text": [
      "Please enter the numeric value of the month - eg 4 for April  6\n"
     ]
    },
    {
     "name": "stdout",
     "output_type": "stream",
     "text": [
      "Month 6\n",
      "30\n"
     ]
    }
   ],
   "source": [
    "month = input(\"Please enter the numeric value of the month - eg 4 for April \")\n",
    "print('Month',month)\n",
    "if month == '2':\n",
    "    print(\"28 or sometimes 29\")\n",
    "elif month == '9':\n",
    "    print(\"30\")\n",
    "elif month == '4':\n",
    "    print(\"30\")\n",
    "elif month == '6':\n",
    "    print(\"30\")\n",
    "elif int(month) == 11:\n",
    "    print(\"30\")\n",
    "else:\n",
    "    print('31')\n",
    "\n",
    "\n",
    " "
   ]
  },
  {
   "cell_type": "code",
   "execution_count": null,
   "metadata": {},
   "outputs": [],
   "source": []
  }
 ],
 "metadata": {
  "kernelspec": {
   "display_name": "Python 3",
   "language": "python",
   "name": "python3"
  },
  "language_info": {
   "codemirror_mode": {
    "name": "ipython",
    "version": 3
   },
   "file_extension": ".py",
   "mimetype": "text/x-python",
   "name": "python",
   "nbconvert_exporter": "python",
   "pygments_lexer": "ipython3",
   "version": "3.7.3"
  }
 },
 "nbformat": 4,
 "nbformat_minor": 4
}
